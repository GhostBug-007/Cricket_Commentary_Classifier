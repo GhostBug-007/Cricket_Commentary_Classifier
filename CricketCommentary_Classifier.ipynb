{
  "nbformat": 4,
  "nbformat_minor": 0,
  "metadata": {
    "colab": {
      "name": "CricketCommentary_Classifier.ipynb",
      "provenance": [],
      "include_colab_link": true
    },
    "kernelspec": {
      "name": "python3",
      "display_name": "Python 3"
    }
  },
  "cells": [
    {
      "cell_type": "markdown",
      "metadata": {
        "id": "view-in-github",
        "colab_type": "text"
      },
      "source": [
        "<a href=\"https://colab.research.google.com/github/GhostBug-007/Cricket_Commentary_Classifier/blob/master/CricketCommentary_Classifier.ipynb\" target=\"_parent\"><img src=\"https://colab.research.google.com/assets/colab-badge.svg\" alt=\"Open In Colab\"/></a>"
      ]
    },
    {
      "cell_type": "markdown",
      "metadata": {
        "id": "luBCryo_sx-e",
        "colab_type": "text"
      },
      "source": [
        "---\n",
        "**Connect the Google Drive to retrieve the data**"
      ]
    },
    {
      "cell_type": "code",
      "metadata": {
        "id": "S2I_2XuUx70F",
        "colab_type": "code",
        "colab": {
          "base_uri": "https://localhost:8080/",
          "height": 34
        },
        "outputId": "72eb324c-5143-4962-d621-00a7df869d99"
      },
      "source": [
        "from google.colab import drive\n",
        "drive.mount('/content/drive')"
      ],
      "execution_count": 41,
      "outputs": [
        {
          "output_type": "stream",
          "text": [
            "Drive already mounted at /content/drive; to attempt to forcibly remount, call drive.mount(\"/content/drive\", force_remount=True).\n"
          ],
          "name": "stdout"
        }
      ]
    },
    {
      "cell_type": "markdown",
      "metadata": {
        "id": "pAsUWJRuUiZs",
        "colab_type": "text"
      },
      "source": [
        "\n",
        "\n",
        "---\n",
        "\n",
        "\n",
        "**Import all the necessary libraries for their functionalities**"
      ]
    },
    {
      "cell_type": "code",
      "metadata": {
        "id": "aoSFAuxvyJ-L",
        "colab_type": "code",
        "colab": {
          "base_uri": "https://localhost:8080/",
          "height": 85
        },
        "outputId": "7109e82e-882e-44fd-ae88-795c9de48c18"
      },
      "source": [
        "import pandas as pd\n",
        "import numpy as np\n",
        "\n",
        "import nltk\n",
        "import string \n",
        "import re\n",
        "import seaborn as sns\n",
        "import matplotlib.pyplot as plt\n",
        "\n",
        "from sklearn.model_selection import train_test_split\n",
        "from sklearn.preprocessing import LabelEncoder\n",
        "from keras.models import Model\n",
        "from keras.layers import LSTM, Activation, Dense, Dropout, Input, Embedding\n",
        "from keras.optimizers import RMSprop\n",
        "from keras.preprocessing.text import Tokenizer\n",
        "from keras.preprocessing import sequence\n",
        "from keras.utils import to_categorical\n",
        "from keras.callbacks import EarlyStopping\n",
        "from sklearn.metrics import mean_squared_error \n",
        "from sklearn.feature_extraction.text import TfidfVectorizer\n",
        "from sklearn.ensemble import RandomForestClassifier\n",
        "from sklearn.metrics import precision_recall_fscore_support as result\n",
        "\n",
        "%matplotlib inline\n",
        "\n",
        "pd.set_option('display.max_colwidth', 100)\n",
        "nltk.download('stopwords')                              # Download the Stopwords\n",
        "nltk.download('wordnet')                                # Download the wordnet for Lemmatization\n",
        "\n",
        "from nltk.stem import WordNetLemmatizer \n",
        "stopwords = nltk.corpus.stopwords.words('english')      # Getting the english Stopwords"
      ],
      "execution_count": 42,
      "outputs": [
        {
          "output_type": "stream",
          "text": [
            "[nltk_data] Downloading package stopwords to /root/nltk_data...\n",
            "[nltk_data]   Package stopwords is already up-to-date!\n",
            "[nltk_data] Downloading package wordnet to /root/nltk_data...\n",
            "[nltk_data]   Package wordnet is already up-to-date!\n"
          ],
          "name": "stdout"
        }
      ]
    },
    {
      "cell_type": "markdown",
      "metadata": {
        "id": "Wwoe4tlKtLHa",
        "colab_type": "text"
      },
      "source": [
        "\n",
        "\n",
        "---\n",
        "\n",
        "\n",
        "**Lets load the data**\n",
        "\n",
        "--> ***training_data***, contains the training data <br>\n",
        "--> ***testing_data***, contains the testing data"
      ]
    },
    {
      "cell_type": "code",
      "metadata": {
        "id": "lQyKp6ogyMMa",
        "colab_type": "code",
        "colab": {}
      },
      "source": [
        "training_data = pd.read_excel (r'/content/drive/My Drive/dataset/Interns_ML_CaseStudy_Cricket Commentary/CCC_TrainingData.xlsx')\n",
        "testing_data = pd.read_excel (r'/content/drive/My Drive/dataset/Interns_ML_CaseStudy_Cricket Commentary/CCC_TestData.xlsx')"
      ],
      "execution_count": 43,
      "outputs": []
    },
    {
      "cell_type": "markdown",
      "metadata": {
        "id": "vFM6E4Cbtex3",
        "colab_type": "text"
      },
      "source": [
        "---\n",
        "**Making a dataframe from the CSV data to help data processing**\n",
        "\n",
        "\n",
        "\n"
      ]
    },
    {
      "cell_type": "code",
      "metadata": {
        "id": "KtHb7f76zfFT",
        "colab_type": "code",
        "colab": {}
      },
      "source": [
        "columnList = [\"ID\", \"Match_ID\", \"Over\", \"Commentary\", \"Over_Run_Total\", \"Target\"]\n",
        "training_df = pd.DataFrame(training_data, columns= columnList)"
      ],
      "execution_count": 44,
      "outputs": []
    },
    {
      "cell_type": "markdown",
      "metadata": {
        "id": "WOHbGQGTuQWK",
        "colab_type": "text"
      },
      "source": [
        "---\n",
        "**How does the dataFrame looks like!!**\n"
      ]
    },
    {
      "cell_type": "code",
      "metadata": {
        "id": "r-F4vnPh0RaG",
        "colab_type": "code",
        "colab": {
          "base_uri": "https://localhost:8080/",
          "height": 204
        },
        "outputId": "2eaccf4a-b7a0-4b3a-ffda-9ca533473312"
      },
      "source": [
        "training_df.head()"
      ],
      "execution_count": 45,
      "outputs": [
        {
          "output_type": "execute_result",
          "data": {
            "text/html": [
              "<div>\n",
              "<style scoped>\n",
              "    .dataframe tbody tr th:only-of-type {\n",
              "        vertical-align: middle;\n",
              "    }\n",
              "\n",
              "    .dataframe tbody tr th {\n",
              "        vertical-align: top;\n",
              "    }\n",
              "\n",
              "    .dataframe thead th {\n",
              "        text-align: right;\n",
              "    }\n",
              "</style>\n",
              "<table border=\"1\" class=\"dataframe\">\n",
              "  <thead>\n",
              "    <tr style=\"text-align: right;\">\n",
              "      <th></th>\n",
              "      <th>ID</th>\n",
              "      <th>Match_ID</th>\n",
              "      <th>Over</th>\n",
              "      <th>Commentary</th>\n",
              "      <th>Over_Run_Total</th>\n",
              "      <th>Target</th>\n",
              "    </tr>\n",
              "  </thead>\n",
              "  <tbody>\n",
              "    <tr>\n",
              "      <th>0</th>\n",
              "      <td>0</td>\n",
              "      <td>803965640511</td>\n",
              "      <td>49.6</td>\n",
              "      <td>and india reach 300. there has been a 300 in every first innings of this cup so far. shami driv...</td>\n",
              "      <td>4</td>\n",
              "      <td>Run_Bw_Wickets</td>\n",
              "    </tr>\n",
              "    <tr>\n",
              "      <th>1</th>\n",
              "      <td>1</td>\n",
              "      <td>803965640511</td>\n",
              "      <td>49.5</td>\n",
              "      <td>slower ball, ashwin bunts this to leg for  after walking down and realising he is early into th...</td>\n",
              "      <td>4</td>\n",
              "      <td>Run_Bw_Wickets</td>\n",
              "    </tr>\n",
              "    <tr>\n",
              "      <th>2</th>\n",
              "      <td>2</td>\n",
              "      <td>803965640511</td>\n",
              "      <td>49.4</td>\n",
              "      <td>full toss on off, he just slogs, gets a thick edge for</td>\n",
              "      <td>4</td>\n",
              "      <td>Run_Bw_Wickets</td>\n",
              "    </tr>\n",
              "    <tr>\n",
              "      <th>3</th>\n",
              "      <td>3</td>\n",
              "      <td>803965640511</td>\n",
              "      <td>49.3</td>\n",
              "      <td>that's the closest you'll get to a hat-trick without actually getting it. lovely yorker. beats ...</td>\n",
              "      <td>4</td>\n",
              "      <td>Dot</td>\n",
              "    </tr>\n",
              "    <tr>\n",
              "      <th>4</th>\n",
              "      <td>4</td>\n",
              "      <td>803965640511</td>\n",
              "      <td>49.2</td>\n",
              "      <td>sohail is doing the sajda after bowling rahane . slower ball, rahane makes room to try to hit i...</td>\n",
              "      <td>4</td>\n",
              "      <td>Wicket</td>\n",
              "    </tr>\n",
              "  </tbody>\n",
              "</table>\n",
              "</div>"
            ],
            "text/plain": [
              "   ID      Match_ID  ...  Over_Run_Total          Target\n",
              "0   0  803965640511  ...               4  Run_Bw_Wickets\n",
              "1   1  803965640511  ...               4  Run_Bw_Wickets\n",
              "2   2  803965640511  ...               4  Run_Bw_Wickets\n",
              "3   3  803965640511  ...               4             Dot\n",
              "4   4  803965640511  ...               4          Wicket\n",
              "\n",
              "[5 rows x 6 columns]"
            ]
          },
          "metadata": {
            "tags": []
          },
          "execution_count": 45
        }
      ]
    },
    {
      "cell_type": "markdown",
      "metadata": {
        "id": "Fo8sJMiLugEg",
        "colab_type": "text"
      },
      "source": [
        "---\n",
        "**The Distribution of the outcomes for commentaries**"
      ]
    },
    {
      "cell_type": "code",
      "metadata": {
        "id": "hUBVSpTk0T5Y",
        "colab_type": "code",
        "colab": {
          "base_uri": "https://localhost:8080/",
          "height": 297
        },
        "outputId": "c1ca4b4e-246e-4b3b-ef79-cfb9da967556"
      },
      "source": [
        "sns.countplot(training_df.Target)\n",
        "plt.xlabel('Target')"
      ],
      "execution_count": 46,
      "outputs": [
        {
          "output_type": "execute_result",
          "data": {
            "text/plain": [
              "Text(0.5, 0, 'Target')"
            ]
          },
          "metadata": {
            "tags": []
          },
          "execution_count": 46
        },
        {
          "output_type": "display_data",
          "data": {
            "image/png": "[encoded data removed]",
            "text/plain": [
              "<Figure size 432x288 with 1 Axes>"
            ]
          },
          "metadata": {
            "tags": [],
            "needs_background": "light"
          }
        }
      ]
    },
    {
      "cell_type": "code",
      "metadata": {
        "id": "hTIq9LA_29iR",
        "colab_type": "code",
        "colab": {
          "base_uri": "https://localhost:8080/",
          "height": 34
        },
        "outputId": "ac13534a-d66d-44b8-d697-6ade89be3401"
      },
      "source": [
        "print(\"Input has {} fields, {} are RBW, {} are dot, {} are wickets, {} are boundary\".format(len(training_df),\n",
        "                                                                                            len(training_df[training_df['Target'] == 'Run_Bw_Wickets']),\n",
        "                                                                                           len(training_df[training_df['Target'] == 'Dot']),\n",
        "                                                                                           len(training_df[training_df['Target'] == 'Wicket']),\n",
        "                                                                                           len(training_df[training_df['Target'] == 'Boundary'])))"
      ],
      "execution_count": 47,
      "outputs": [
        {
          "output_type": "stream",
          "text": [
            "Input has 101634 fields, 43085 are RBW, 42522 are dot, 3893 are wickets, 12134 are boundary\n"
          ],
          "name": "stdout"
        }
      ]
    },
    {
      "cell_type": "markdown",
      "metadata": {
        "id": "mHnK33GYwoat",
        "colab_type": "text"
      },
      "source": [
        "---\n",
        "**Loading the Lemmatizer** \n",
        "\n",
        "\n",
        "*Lemmatization is the process of setting a word to its base form <br>*\n",
        "For example =>\n",
        "\n",
        "> Thinking -> Think<br>\n",
        "     ate -> eat\n",
        "\n"
      ]
    },
    {
      "cell_type": "code",
      "metadata": {
        "id": "QEYwcZDC5yHY",
        "colab_type": "code",
        "colab": {}
      },
      "source": [
        "lemmatizer = WordNetLemmatizer()"
      ],
      "execution_count": 48,
      "outputs": []
    },
    {
      "cell_type": "markdown",
      "metadata": {
        "id": "-7yUCGhOyD8z",
        "colab_type": "text"
      },
      "source": [
        "---\n",
        "The dataset contains certain words which are ![alt text](https://img.webmd.com/dtmcms/live/webmd/consumer_assets/site_images/article_thumbnails/other/virus_hospital_mask_white_01_other/virus_hospital_mask_white_01_other.jpg?resize=*:100px) in the commentary like **\"boundary\"**, **\"out\"**, **\"catch\"**, etc. which could reveal the action on the ball. <br>\n",
        "\n"
      ]
    },
    {
      "cell_type": "code",
      "metadata": {
        "id": "9o_HUOC2wTae",
        "colab_type": "code",
        "colab": {}
      },
      "source": [
        "masks = ['', '-999', '999']"
      ],
      "execution_count": 49,
      "outputs": []
    },
    {
      "cell_type": "markdown",
      "metadata": {
        "id": "FNKA0lCPzJb1",
        "colab_type": "text"
      },
      "source": [
        "---\n",
        "The commentary data contains a lot of redundant data that needs to be cleaned\n",
        "\n",
        "\n",
        "**Cleaning Begins** <br>\n"
      ]
    },
    {
      "cell_type": "code",
      "metadata": {
        "id": "9xpuAr4P3EYx",
        "colab_type": "code",
        "colab": {}
      },
      "source": [
        "def clean_text(text):\n",
        "    text = \"\".join([word for word in text if word not in string.punctuation])\n",
        "    tokens = re.split('\\W+', text)\n",
        "    text = [lemmatizer.lemmatize(word) for word in tokens if word not in stopwords and word not in masks]\n",
        "    return text"
      ],
      "execution_count": 50,
      "outputs": []
    },
    {
      "cell_type": "code",
      "metadata": {
        "id": "wjZ5V1JP4lZk",
        "colab_type": "code",
        "colab": {
          "base_uri": "https://localhost:8080/",
          "height": 272
        },
        "outputId": "ddae2688-342c-4148-c8f9-ea673cb20069"
      },
      "source": [
        "training_df['cleanData'] = training_df['Commentary'].apply(lambda x: clean_text(x.lower().strip()))\n",
        "training_df.head()"
      ],
      "execution_count": 51,
      "outputs": [
        {
          "output_type": "execute_result",
          "data": {
            "text/html": [
              "<div>\n",
              "<style scoped>\n",
              "    .dataframe tbody tr th:only-of-type {\n",
              "        vertical-align: middle;\n",
              "    }\n",
              "\n",
              "    .dataframe tbody tr th {\n",
              "        vertical-align: top;\n",
              "    }\n",
              "\n",
              "    .dataframe thead th {\n",
              "        text-align: right;\n",
              "    }\n",
              "</style>\n",
              "<table border=\"1\" class=\"dataframe\">\n",
              "  <thead>\n",
              "    <tr style=\"text-align: right;\">\n",
              "      <th></th>\n",
              "      <th>ID</th>\n",
              "      <th>Match_ID</th>\n",
              "      <th>Over</th>\n",
              "      <th>Commentary</th>\n",
              "      <th>Over_Run_Total</th>\n",
              "      <th>Target</th>\n",
              "      <th>cleanData</th>\n",
              "    </tr>\n",
              "  </thead>\n",
              "  <tbody>\n",
              "    <tr>\n",
              "      <th>0</th>\n",
              "      <td>0</td>\n",
              "      <td>803965640511</td>\n",
              "      <td>49.6</td>\n",
              "      <td>and india reach 300. there has been a 300 in every first innings of this cup so far. shami driv...</td>\n",
              "      <td>4</td>\n",
              "      <td>Run_Bw_Wickets</td>\n",
              "      <td>[india, reach, 300, 300, every, first, inning, cup, far, shami, drive, full, ball, point, come, ...</td>\n",
              "    </tr>\n",
              "    <tr>\n",
              "      <th>1</th>\n",
              "      <td>1</td>\n",
              "      <td>803965640511</td>\n",
              "      <td>49.5</td>\n",
              "      <td>slower ball, ashwin bunts this to leg for  after walking down and realising he is early into th...</td>\n",
              "      <td>4</td>\n",
              "      <td>Run_Bw_Wickets</td>\n",
              "      <td>[slower, ball, ashwin, bunt, leg, walking, realising, early, shot]</td>\n",
              "    </tr>\n",
              "    <tr>\n",
              "      <th>2</th>\n",
              "      <td>2</td>\n",
              "      <td>803965640511</td>\n",
              "      <td>49.4</td>\n",
              "      <td>full toss on off, he just slogs, gets a thick edge for</td>\n",
              "      <td>4</td>\n",
              "      <td>Run_Bw_Wickets</td>\n",
              "      <td>[full, toss, slogs, get, thick, edge]</td>\n",
              "    </tr>\n",
              "    <tr>\n",
              "      <th>3</th>\n",
              "      <td>3</td>\n",
              "      <td>803965640511</td>\n",
              "      <td>49.3</td>\n",
              "      <td>that's the closest you'll get to a hat-trick without actually getting it. lovely yorker. beats ...</td>\n",
              "      <td>4</td>\n",
              "      <td>Dot</td>\n",
              "      <td>[thats, closest, youll, get, hattrick, without, actually, getting, lovely, yorker, beat, shami, ...</td>\n",
              "    </tr>\n",
              "    <tr>\n",
              "      <th>4</th>\n",
              "      <td>4</td>\n",
              "      <td>803965640511</td>\n",
              "      <td>49.2</td>\n",
              "      <td>sohail is doing the sajda after bowling rahane . slower ball, rahane makes room to try to hit i...</td>\n",
              "      <td>4</td>\n",
              "      <td>Wicket</td>\n",
              "      <td>[sohail, sajda, bowling, rahane, slower, ball, rahane, make, room, try, hit, cover, top, leg, st...</td>\n",
              "    </tr>\n",
              "  </tbody>\n",
              "</table>\n",
              "</div>"
            ],
            "text/plain": [
              "   ID  ...                                                                                            cleanData\n",
              "0   0  ...  [india, reach, 300, 300, every, first, inning, cup, far, shami, drive, full, ball, point, come, ...\n",
              "1   1  ...                                   [slower, ball, ashwin, bunt, leg, walking, realising, early, shot]\n",
              "2   2  ...                                                                [full, toss, slogs, get, thick, edge]\n",
              "3   3  ...  [thats, closest, youll, get, hattrick, without, actually, getting, lovely, yorker, beat, shami, ...\n",
              "4   4  ...  [sohail, sajda, bowling, rahane, slower, ball, rahane, make, room, try, hit, cover, top, leg, st...\n",
              "\n",
              "[5 rows x 7 columns]"
            ]
          },
          "metadata": {
            "tags": []
          },
          "execution_count": 51
        }
      ]
    },
    {
      "cell_type": "markdown",
      "metadata": {
        "id": "OfpeLIca1k6e",
        "colab_type": "text"
      },
      "source": [
        "---\n",
        "![alt text](https://miro.medium.com/max/1404/1*mu6G-cBmWlENS4pWHEnGcg@2x.jpeg)\n",
        "\n"
      ]
    },
    {
      "cell_type": "code",
      "metadata": {
        "id": "m-laPmSARVva",
        "colab_type": "code",
        "colab": {}
      },
      "source": [
        "vectorization = TfidfVectorizer(analyzer = clean_text, max_features = 100)"
      ],
      "execution_count": 52,
      "outputs": []
    },
    {
      "cell_type": "code",
      "metadata": {
        "id": "VsXK1H-k46FR",
        "colab_type": "code",
        "colab": {}
      },
      "source": [
        "extractvector = vectorization.fit_transform(training_df['Commentary'])\n"
      ],
      "execution_count": 53,
      "outputs": []
    },
    {
      "cell_type": "code",
      "metadata": {
        "id": "zWYu4LNr7uVW",
        "colab_type": "code",
        "colab": {
          "base_uri": "https://localhost:8080/",
          "height": 253
        },
        "outputId": "a9198648-42f3-41b5-bc71-7278af56ddb1"
      },
      "source": [
        "features = pd.DataFrame(extractvector.toarray())\n",
        "features.head()"
      ],
      "execution_count": 54,
      "outputs": [
        {
          "output_type": "execute_result",
          "data": {
            "text/html": [
              "<div>\n",
              "<style scoped>\n",
              "    .dataframe tbody tr th:only-of-type {\n",
              "        vertical-align: middle;\n",
              "    }\n",
              "\n",
              "    .dataframe tbody tr th {\n",
              "        vertical-align: top;\n",
              "    }\n",
              "\n",
              "    .dataframe thead th {\n",
              "        text-align: right;\n",
              "    }\n",
              "</style>\n",
              "<table border=\"1\" class=\"dataframe\">\n",
              "  <thead>\n",
              "    <tr style=\"text-align: right;\">\n",
              "      <th></th>\n",
              "      <th>0</th>\n",
              "      <th>1</th>\n",
              "      <th>2</th>\n",
              "      <th>3</th>\n",
              "      <th>4</th>\n",
              "      <th>5</th>\n",
              "      <th>6</th>\n",
              "      <th>7</th>\n",
              "      <th>8</th>\n",
              "      <th>9</th>\n",
              "      <th>10</th>\n",
              "      <th>11</th>\n",
              "      <th>12</th>\n",
              "      <th>13</th>\n",
              "      <th>14</th>\n",
              "      <th>15</th>\n",
              "      <th>16</th>\n",
              "      <th>17</th>\n",
              "      <th>18</th>\n",
              "      <th>19</th>\n",
              "      <th>20</th>\n",
              "      <th>21</th>\n",
              "      <th>22</th>\n",
              "      <th>23</th>\n",
              "      <th>24</th>\n",
              "      <th>25</th>\n",
              "      <th>26</th>\n",
              "      <th>27</th>\n",
              "      <th>28</th>\n",
              "      <th>29</th>\n",
              "      <th>30</th>\n",
              "      <th>31</th>\n",
              "      <th>32</th>\n",
              "      <th>33</th>\n",
              "      <th>34</th>\n",
              "      <th>35</th>\n",
              "      <th>36</th>\n",
              "      <th>37</th>\n",
              "      <th>38</th>\n",
              "      <th>39</th>\n",
              "      <th>...</th>\n",
              "      <th>60</th>\n",
              "      <th>61</th>\n",
              "      <th>62</th>\n",
              "      <th>63</th>\n",
              "      <th>64</th>\n",
              "      <th>65</th>\n",
              "      <th>66</th>\n",
              "      <th>67</th>\n",
              "      <th>68</th>\n",
              "      <th>69</th>\n",
              "      <th>70</th>\n",
              "      <th>71</th>\n",
              "      <th>72</th>\n",
              "      <th>73</th>\n",
              "      <th>74</th>\n",
              "      <th>75</th>\n",
              "      <th>76</th>\n",
              "      <th>77</th>\n",
              "      <th>78</th>\n",
              "      <th>79</th>\n",
              "      <th>80</th>\n",
              "      <th>81</th>\n",
              "      <th>82</th>\n",
              "      <th>83</th>\n",
              "      <th>84</th>\n",
              "      <th>85</th>\n",
              "      <th>86</th>\n",
              "      <th>87</th>\n",
              "      <th>88</th>\n",
              "      <th>89</th>\n",
              "      <th>90</th>\n",
              "      <th>91</th>\n",
              "      <th>92</th>\n",
              "      <th>93</th>\n",
              "      <th>94</th>\n",
              "      <th>95</th>\n",
              "      <th>96</th>\n",
              "      <th>97</th>\n",
              "      <th>98</th>\n",
              "      <th>99</th>\n",
              "    </tr>\n",
              "  </thead>\n",
              "  <tbody>\n",
              "    <tr>\n",
              "      <th>0</th>\n",
              "      <td>0.0</td>\n",
              "      <td>0.0</td>\n",
              "      <td>0.000000</td>\n",
              "      <td>0.0</td>\n",
              "      <td>0.330622</td>\n",
              "      <td>0.0</td>\n",
              "      <td>0.317659</td>\n",
              "      <td>0.0</td>\n",
              "      <td>0.0</td>\n",
              "      <td>0.0</td>\n",
              "      <td>0.0</td>\n",
              "      <td>0.0</td>\n",
              "      <td>0.0</td>\n",
              "      <td>0.0</td>\n",
              "      <td>0.521922</td>\n",
              "      <td>0.000000</td>\n",
              "      <td>0.0</td>\n",
              "      <td>0.0</td>\n",
              "      <td>0.0</td>\n",
              "      <td>0.0</td>\n",
              "      <td>0.0</td>\n",
              "      <td>0.0</td>\n",
              "      <td>0.0</td>\n",
              "      <td>0.456798</td>\n",
              "      <td>0.0</td>\n",
              "      <td>0.000000</td>\n",
              "      <td>0.0</td>\n",
              "      <td>0.0</td>\n",
              "      <td>0.0</td>\n",
              "      <td>0.0</td>\n",
              "      <td>0.0</td>\n",
              "      <td>0.0</td>\n",
              "      <td>0.0</td>\n",
              "      <td>0.0</td>\n",
              "      <td>0.370210</td>\n",
              "      <td>0.0</td>\n",
              "      <td>0.000000</td>\n",
              "      <td>0.0</td>\n",
              "      <td>0.0</td>\n",
              "      <td>0.0</td>\n",
              "      <td>...</td>\n",
              "      <td>0.0</td>\n",
              "      <td>0.0</td>\n",
              "      <td>0.0</td>\n",
              "      <td>0.0</td>\n",
              "      <td>0.0</td>\n",
              "      <td>0.0</td>\n",
              "      <td>0.0</td>\n",
              "      <td>0.414318</td>\n",
              "      <td>0.0</td>\n",
              "      <td>0.0</td>\n",
              "      <td>0.0</td>\n",
              "      <td>0.0</td>\n",
              "      <td>0.0</td>\n",
              "      <td>0.000000</td>\n",
              "      <td>0.0</td>\n",
              "      <td>0.0</td>\n",
              "      <td>0.000000</td>\n",
              "      <td>0.0</td>\n",
              "      <td>0.000000</td>\n",
              "      <td>0.0</td>\n",
              "      <td>0.0</td>\n",
              "      <td>0.000000</td>\n",
              "      <td>0.0</td>\n",
              "      <td>0.0</td>\n",
              "      <td>0.0</td>\n",
              "      <td>0.000000</td>\n",
              "      <td>0.0</td>\n",
              "      <td>0.0</td>\n",
              "      <td>0.000000</td>\n",
              "      <td>0.0</td>\n",
              "      <td>0.0</td>\n",
              "      <td>0.0</td>\n",
              "      <td>0.000000</td>\n",
              "      <td>0.0</td>\n",
              "      <td>0.0</td>\n",
              "      <td>0.0</td>\n",
              "      <td>0.0</td>\n",
              "      <td>0.0</td>\n",
              "      <td>0.0</td>\n",
              "      <td>0.000000</td>\n",
              "    </tr>\n",
              "    <tr>\n",
              "      <th>1</th>\n",
              "      <td>0.0</td>\n",
              "      <td>0.0</td>\n",
              "      <td>0.000000</td>\n",
              "      <td>0.0</td>\n",
              "      <td>0.000000</td>\n",
              "      <td>0.0</td>\n",
              "      <td>0.372190</td>\n",
              "      <td>0.0</td>\n",
              "      <td>0.0</td>\n",
              "      <td>0.0</td>\n",
              "      <td>0.0</td>\n",
              "      <td>0.0</td>\n",
              "      <td>0.0</td>\n",
              "      <td>0.0</td>\n",
              "      <td>0.000000</td>\n",
              "      <td>0.000000</td>\n",
              "      <td>0.0</td>\n",
              "      <td>0.0</td>\n",
              "      <td>0.0</td>\n",
              "      <td>0.0</td>\n",
              "      <td>0.0</td>\n",
              "      <td>0.0</td>\n",
              "      <td>0.0</td>\n",
              "      <td>0.000000</td>\n",
              "      <td>0.0</td>\n",
              "      <td>0.000000</td>\n",
              "      <td>0.0</td>\n",
              "      <td>0.0</td>\n",
              "      <td>0.0</td>\n",
              "      <td>0.0</td>\n",
              "      <td>0.0</td>\n",
              "      <td>0.0</td>\n",
              "      <td>0.0</td>\n",
              "      <td>0.0</td>\n",
              "      <td>0.000000</td>\n",
              "      <td>0.0</td>\n",
              "      <td>0.000000</td>\n",
              "      <td>0.0</td>\n",
              "      <td>0.0</td>\n",
              "      <td>0.0</td>\n",
              "      <td>...</td>\n",
              "      <td>0.0</td>\n",
              "      <td>0.0</td>\n",
              "      <td>0.0</td>\n",
              "      <td>0.0</td>\n",
              "      <td>0.0</td>\n",
              "      <td>0.0</td>\n",
              "      <td>0.0</td>\n",
              "      <td>0.000000</td>\n",
              "      <td>0.0</td>\n",
              "      <td>0.0</td>\n",
              "      <td>0.0</td>\n",
              "      <td>0.0</td>\n",
              "      <td>0.0</td>\n",
              "      <td>0.000000</td>\n",
              "      <td>0.0</td>\n",
              "      <td>0.0</td>\n",
              "      <td>0.611359</td>\n",
              "      <td>0.0</td>\n",
              "      <td>0.594795</td>\n",
              "      <td>0.0</td>\n",
              "      <td>0.0</td>\n",
              "      <td>0.000000</td>\n",
              "      <td>0.0</td>\n",
              "      <td>0.0</td>\n",
              "      <td>0.0</td>\n",
              "      <td>0.000000</td>\n",
              "      <td>0.0</td>\n",
              "      <td>0.0</td>\n",
              "      <td>0.000000</td>\n",
              "      <td>0.0</td>\n",
              "      <td>0.0</td>\n",
              "      <td>0.0</td>\n",
              "      <td>0.000000</td>\n",
              "      <td>0.0</td>\n",
              "      <td>0.0</td>\n",
              "      <td>0.0</td>\n",
              "      <td>0.0</td>\n",
              "      <td>0.0</td>\n",
              "      <td>0.0</td>\n",
              "      <td>0.000000</td>\n",
              "    </tr>\n",
              "    <tr>\n",
              "      <th>2</th>\n",
              "      <td>0.0</td>\n",
              "      <td>0.0</td>\n",
              "      <td>0.000000</td>\n",
              "      <td>0.0</td>\n",
              "      <td>0.000000</td>\n",
              "      <td>0.0</td>\n",
              "      <td>0.000000</td>\n",
              "      <td>0.0</td>\n",
              "      <td>0.0</td>\n",
              "      <td>0.0</td>\n",
              "      <td>0.0</td>\n",
              "      <td>0.0</td>\n",
              "      <td>0.0</td>\n",
              "      <td>0.0</td>\n",
              "      <td>0.000000</td>\n",
              "      <td>0.000000</td>\n",
              "      <td>0.0</td>\n",
              "      <td>0.0</td>\n",
              "      <td>0.0</td>\n",
              "      <td>0.0</td>\n",
              "      <td>0.0</td>\n",
              "      <td>0.0</td>\n",
              "      <td>0.0</td>\n",
              "      <td>0.000000</td>\n",
              "      <td>0.0</td>\n",
              "      <td>0.522534</td>\n",
              "      <td>0.0</td>\n",
              "      <td>0.0</td>\n",
              "      <td>0.0</td>\n",
              "      <td>0.0</td>\n",
              "      <td>0.0</td>\n",
              "      <td>0.0</td>\n",
              "      <td>0.0</td>\n",
              "      <td>0.0</td>\n",
              "      <td>0.407903</td>\n",
              "      <td>0.0</td>\n",
              "      <td>0.415081</td>\n",
              "      <td>0.0</td>\n",
              "      <td>0.0</td>\n",
              "      <td>0.0</td>\n",
              "      <td>...</td>\n",
              "      <td>0.0</td>\n",
              "      <td>0.0</td>\n",
              "      <td>0.0</td>\n",
              "      <td>0.0</td>\n",
              "      <td>0.0</td>\n",
              "      <td>0.0</td>\n",
              "      <td>0.0</td>\n",
              "      <td>0.000000</td>\n",
              "      <td>0.0</td>\n",
              "      <td>0.0</td>\n",
              "      <td>0.0</td>\n",
              "      <td>0.0</td>\n",
              "      <td>0.0</td>\n",
              "      <td>0.000000</td>\n",
              "      <td>0.0</td>\n",
              "      <td>0.0</td>\n",
              "      <td>0.000000</td>\n",
              "      <td>0.0</td>\n",
              "      <td>0.000000</td>\n",
              "      <td>0.0</td>\n",
              "      <td>0.0</td>\n",
              "      <td>0.000000</td>\n",
              "      <td>0.0</td>\n",
              "      <td>0.0</td>\n",
              "      <td>0.0</td>\n",
              "      <td>0.000000</td>\n",
              "      <td>0.0</td>\n",
              "      <td>0.0</td>\n",
              "      <td>0.623122</td>\n",
              "      <td>0.0</td>\n",
              "      <td>0.0</td>\n",
              "      <td>0.0</td>\n",
              "      <td>0.000000</td>\n",
              "      <td>0.0</td>\n",
              "      <td>0.0</td>\n",
              "      <td>0.0</td>\n",
              "      <td>0.0</td>\n",
              "      <td>0.0</td>\n",
              "      <td>0.0</td>\n",
              "      <td>0.000000</td>\n",
              "    </tr>\n",
              "    <tr>\n",
              "      <th>3</th>\n",
              "      <td>0.0</td>\n",
              "      <td>0.0</td>\n",
              "      <td>0.000000</td>\n",
              "      <td>0.0</td>\n",
              "      <td>0.000000</td>\n",
              "      <td>0.0</td>\n",
              "      <td>0.000000</td>\n",
              "      <td>0.0</td>\n",
              "      <td>0.0</td>\n",
              "      <td>0.0</td>\n",
              "      <td>0.0</td>\n",
              "      <td>0.0</td>\n",
              "      <td>0.0</td>\n",
              "      <td>0.0</td>\n",
              "      <td>0.000000</td>\n",
              "      <td>0.000000</td>\n",
              "      <td>0.0</td>\n",
              "      <td>0.0</td>\n",
              "      <td>0.0</td>\n",
              "      <td>0.0</td>\n",
              "      <td>0.0</td>\n",
              "      <td>0.0</td>\n",
              "      <td>0.0</td>\n",
              "      <td>0.000000</td>\n",
              "      <td>0.0</td>\n",
              "      <td>0.000000</td>\n",
              "      <td>0.0</td>\n",
              "      <td>0.0</td>\n",
              "      <td>0.0</td>\n",
              "      <td>0.0</td>\n",
              "      <td>0.0</td>\n",
              "      <td>0.0</td>\n",
              "      <td>0.0</td>\n",
              "      <td>0.0</td>\n",
              "      <td>0.000000</td>\n",
              "      <td>0.0</td>\n",
              "      <td>0.351073</td>\n",
              "      <td>0.0</td>\n",
              "      <td>0.0</td>\n",
              "      <td>0.0</td>\n",
              "      <td>...</td>\n",
              "      <td>0.0</td>\n",
              "      <td>0.0</td>\n",
              "      <td>0.0</td>\n",
              "      <td>0.0</td>\n",
              "      <td>0.0</td>\n",
              "      <td>0.0</td>\n",
              "      <td>0.0</td>\n",
              "      <td>0.000000</td>\n",
              "      <td>0.0</td>\n",
              "      <td>0.0</td>\n",
              "      <td>0.0</td>\n",
              "      <td>0.0</td>\n",
              "      <td>0.0</td>\n",
              "      <td>0.000000</td>\n",
              "      <td>0.0</td>\n",
              "      <td>0.0</td>\n",
              "      <td>0.000000</td>\n",
              "      <td>0.0</td>\n",
              "      <td>0.000000</td>\n",
              "      <td>0.0</td>\n",
              "      <td>0.0</td>\n",
              "      <td>0.294939</td>\n",
              "      <td>0.0</td>\n",
              "      <td>0.0</td>\n",
              "      <td>0.0</td>\n",
              "      <td>0.487209</td>\n",
              "      <td>0.0</td>\n",
              "      <td>0.0</td>\n",
              "      <td>0.000000</td>\n",
              "      <td>0.0</td>\n",
              "      <td>0.0</td>\n",
              "      <td>0.0</td>\n",
              "      <td>0.000000</td>\n",
              "      <td>0.0</td>\n",
              "      <td>0.0</td>\n",
              "      <td>0.0</td>\n",
              "      <td>0.0</td>\n",
              "      <td>0.0</td>\n",
              "      <td>0.0</td>\n",
              "      <td>0.541385</td>\n",
              "    </tr>\n",
              "    <tr>\n",
              "      <th>4</th>\n",
              "      <td>0.0</td>\n",
              "      <td>0.0</td>\n",
              "      <td>0.327473</td>\n",
              "      <td>0.0</td>\n",
              "      <td>0.000000</td>\n",
              "      <td>0.0</td>\n",
              "      <td>0.211029</td>\n",
              "      <td>0.0</td>\n",
              "      <td>0.0</td>\n",
              "      <td>0.0</td>\n",
              "      <td>0.0</td>\n",
              "      <td>0.0</td>\n",
              "      <td>0.0</td>\n",
              "      <td>0.0</td>\n",
              "      <td>0.000000</td>\n",
              "      <td>0.242867</td>\n",
              "      <td>0.0</td>\n",
              "      <td>0.0</td>\n",
              "      <td>0.0</td>\n",
              "      <td>0.0</td>\n",
              "      <td>0.0</td>\n",
              "      <td>0.0</td>\n",
              "      <td>0.0</td>\n",
              "      <td>0.000000</td>\n",
              "      <td>0.0</td>\n",
              "      <td>0.000000</td>\n",
              "      <td>0.0</td>\n",
              "      <td>0.0</td>\n",
              "      <td>0.0</td>\n",
              "      <td>0.0</td>\n",
              "      <td>0.0</td>\n",
              "      <td>0.0</td>\n",
              "      <td>0.0</td>\n",
              "      <td>0.0</td>\n",
              "      <td>0.000000</td>\n",
              "      <td>0.0</td>\n",
              "      <td>0.250268</td>\n",
              "      <td>0.0</td>\n",
              "      <td>0.0</td>\n",
              "      <td>0.0</td>\n",
              "      <td>...</td>\n",
              "      <td>0.0</td>\n",
              "      <td>0.0</td>\n",
              "      <td>0.0</td>\n",
              "      <td>0.0</td>\n",
              "      <td>0.0</td>\n",
              "      <td>0.0</td>\n",
              "      <td>0.0</td>\n",
              "      <td>0.000000</td>\n",
              "      <td>0.0</td>\n",
              "      <td>0.0</td>\n",
              "      <td>0.0</td>\n",
              "      <td>0.0</td>\n",
              "      <td>0.0</td>\n",
              "      <td>0.381522</td>\n",
              "      <td>0.0</td>\n",
              "      <td>0.0</td>\n",
              "      <td>0.000000</td>\n",
              "      <td>0.0</td>\n",
              "      <td>0.337245</td>\n",
              "      <td>0.0</td>\n",
              "      <td>0.0</td>\n",
              "      <td>0.210252</td>\n",
              "      <td>0.0</td>\n",
              "      <td>0.0</td>\n",
              "      <td>0.0</td>\n",
              "      <td>0.000000</td>\n",
              "      <td>0.0</td>\n",
              "      <td>0.0</td>\n",
              "      <td>0.000000</td>\n",
              "      <td>0.0</td>\n",
              "      <td>0.0</td>\n",
              "      <td>0.0</td>\n",
              "      <td>0.360222</td>\n",
              "      <td>0.0</td>\n",
              "      <td>0.0</td>\n",
              "      <td>0.0</td>\n",
              "      <td>0.0</td>\n",
              "      <td>0.0</td>\n",
              "      <td>0.0</td>\n",
              "      <td>0.000000</td>\n",
              "    </tr>\n",
              "  </tbody>\n",
              "</table>\n",
              "<p>5 rows × 100 columns</p>\n",
              "</div>"
            ],
            "text/plain": [
              "    0    1         2    3         4    5   ...   94   95   96   97   98        99\n",
              "0  0.0  0.0  0.000000  0.0  0.330622  0.0  ...  0.0  0.0  0.0  0.0  0.0  0.000000\n",
              "1  0.0  0.0  0.000000  0.0  0.000000  0.0  ...  0.0  0.0  0.0  0.0  0.0  0.000000\n",
              "2  0.0  0.0  0.000000  0.0  0.000000  0.0  ...  0.0  0.0  0.0  0.0  0.0  0.000000\n",
              "3  0.0  0.0  0.000000  0.0  0.000000  0.0  ...  0.0  0.0  0.0  0.0  0.0  0.541385\n",
              "4  0.0  0.0  0.327473  0.0  0.000000  0.0  ...  0.0  0.0  0.0  0.0  0.0  0.000000\n",
              "\n",
              "[5 rows x 100 columns]"
            ]
          },
          "metadata": {
            "tags": []
          },
          "execution_count": 54
        }
      ]
    },
    {
      "cell_type": "code",
      "metadata": {
        "id": "wHMhyZFERxw6",
        "colab_type": "code",
        "colab": {
          "base_uri": "https://localhost:8080/",
          "height": 34
        },
        "outputId": "762a5015-eeac-4248-b3d5-ef53d572542e"
      },
      "source": [
        "features.shape"
      ],
      "execution_count": 55,
      "outputs": [
        {
          "output_type": "execute_result",
          "data": {
            "text/plain": [
              "(101634, 100)"
            ]
          },
          "metadata": {
            "tags": []
          },
          "execution_count": 55
        }
      ]
    },
    {
      "cell_type": "markdown",
      "metadata": {
        "id": "NL4QTmRW2Tyf",
        "colab_type": "text"
      },
      "source": [
        "---\n",
        "**Let's divide and conquer** <br>\n",
        "\n",
        "Train Split -> 75% <br>\n",
        "Test Split -> 25%"
      ]
    },
    {
      "cell_type": "code",
      "metadata": {
        "id": "oa7AgP8R9z8Q",
        "colab_type": "code",
        "colab": {}
      },
      "source": [
        "X = features\n",
        "Y = training_df['Target']\n",
        "X_train, X_test, Y_train, Y_test = train_test_split(X, Y, test_size=0.25)"
      ],
      "execution_count": 56,
      "outputs": []
    },
    {
      "cell_type": "code",
      "metadata": {
        "id": "s2bLNZI0AUon",
        "colab_type": "code",
        "colab": {
          "base_uri": "https://localhost:8080/",
          "height": 51
        },
        "outputId": "b0c2db06-0673-46f6-ba4d-a0ccd947d0a3"
      },
      "source": [
        "print(X_train.shape)\n",
        "print(X_test.shape)"
      ],
      "execution_count": 57,
      "outputs": [
        {
          "output_type": "stream",
          "text": [
            "(76225, 100)\n",
            "(25409, 100)\n"
          ],
          "name": "stdout"
        }
      ]
    },
    {
      "cell_type": "markdown",
      "metadata": {
        "id": "-uia5pil2hGy",
        "colab_type": "text"
      },
      "source": [
        "---\n",
        "Initializing the Random Forest Classifier \n",
        "\n",
        "\n",
        "> **n_estimators** -> Number of Decision Trees <br>\n",
        "**max_depth**-> The maximum depth of the decision tree <br>\n",
        "**n_jobs** -> Number of CPU's to use <br> \n",
        "**class_weight** -> Weightage of every outcome\n",
        "\n"
      ]
    },
    {
      "cell_type": "code",
      "metadata": {
        "id": "NgCYNIaLAeYb",
        "colab_type": "code",
        "colab": {}
      },
      "source": [
        "rf = RandomForestClassifier(n_estimators = 100, max_depth=30, n_jobs=-1, class_weight='balanced')\n",
        "rf_model = rf.fit(X_train, Y_train)"
      ],
      "execution_count": 58,
      "outputs": []
    },
    {
      "cell_type": "markdown",
      "metadata": {
        "id": "3A_40LGy3lzN",
        "colab_type": "text"
      },
      "source": [
        "---\n",
        "**Predicting the outcomes for the test split of the training dataset**"
      ]
    },
    {
      "cell_type": "code",
      "metadata": {
        "id": "5EnENOYkB2CG",
        "colab_type": "code",
        "colab": {}
      },
      "source": [
        "Y_pred = rf_model.predict(X_test)\n"
      ],
      "execution_count": 59,
      "outputs": []
    },
    {
      "cell_type": "markdown",
      "metadata": {
        "id": "zt8phVhKNJ1E",
        "colab_type": "text"
      },
      "source": [
        "---\n",
        "![alt text](https://i.stack.imgur.com/7QIRU.gif)\n",
        "\n",
        "\n",
        "---\n",
        "\n",
        "\n",
        "\n",
        "> **tp** -> True Positives (Are positive and detected positive)<br>\n",
        "**fp** -> False Positives (Are negative but detected positive)<br>\n",
        "**tn** -> True Negatives (Are negative and detected negative)<br>\n",
        "**fn** -> False Negatives (Are positive but detected negative)"
      ]
    },
    {
      "cell_type": "code",
      "metadata": {
        "id": "4NikMzF7Do8U",
        "colab_type": "code",
        "colab": {}
      },
      "source": [
        "precision, recall, fscore, support = result(Y_test, Y_pred, average='weighted')"
      ],
      "execution_count": 60,
      "outputs": []
    },
    {
      "cell_type": "code",
      "metadata": {
        "id": "jGH4ZzdRE-tS",
        "colab_type": "code",
        "colab": {
          "base_uri": "https://localhost:8080/",
          "height": 34
        },
        "outputId": "ca016ded-4b63-4a44-b253-fc001dca43a5"
      },
      "source": [
        "print(\"Accuracy : {}%, Precision : {}, Recall : {}, Fscore : {}\".format(round((Y_pred == Y_test).sum()*100/ len(Y_pred), 3),\n",
        "                                                                       round(precision, 3),\n",
        "                                                                       round(recall, 3),\n",
        "                                                                       round(fscore, 3)))"
      ],
      "execution_count": 61,
      "outputs": [
        {
          "output_type": "stream",
          "text": [
            "Accuracy : 67.071%, Precision : 0.674, Recall : 0.671, Fscore : 0.669\n"
          ],
          "name": "stdout"
        }
      ]
    },
    {
      "cell_type": "markdown",
      "metadata": {
        "id": "mCgm8OgFTlAW",
        "colab_type": "text"
      },
      "source": [
        "**Model is Ready to make some predicitions!!**<br>\n",
        "![alt text](data:image/jpeg;base64,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)"
      ]
    },
    {
      "cell_type": "code",
      "metadata": {
        "id": "5o2e0Fo7Gzhq",
        "colab_type": "code",
        "colab": {}
      },
      "source": [
        "columnList = [\"ID\", \"Commentary\"]\n",
        "testing_df = pd.DataFrame(testing_data, columns= columnList)\n",
        "testing_df['cleanData'] = testing_df['Commentary'].apply(lambda x: clean_text(x.lower().strip()))"
      ],
      "execution_count": 62,
      "outputs": []
    },
    {
      "cell_type": "code",
      "metadata": {
        "id": "8JGuiV0-IOLc",
        "colab_type": "code",
        "colab": {
          "base_uri": "https://localhost:8080/",
          "height": 221
        },
        "outputId": "687c50eb-21a6-4bde-cef1-6c24cfb68566"
      },
      "source": [
        "testing_df.head()"
      ],
      "execution_count": 63,
      "outputs": [
        {
          "output_type": "execute_result",
          "data": {
            "text/html": [
              "<div>\n",
              "<style scoped>\n",
              "    .dataframe tbody tr th:only-of-type {\n",
              "        vertical-align: middle;\n",
              "    }\n",
              "\n",
              "    .dataframe tbody tr th {\n",
              "        vertical-align: top;\n",
              "    }\n",
              "\n",
              "    .dataframe thead th {\n",
              "        text-align: right;\n",
              "    }\n",
              "</style>\n",
              "<table border=\"1\" class=\"dataframe\">\n",
              "  <thead>\n",
              "    <tr style=\"text-align: right;\">\n",
              "      <th></th>\n",
              "      <th>ID</th>\n",
              "      <th>Commentary</th>\n",
              "      <th>cleanData</th>\n",
              "    </tr>\n",
              "  </thead>\n",
              "  <tbody>\n",
              "    <tr>\n",
              "      <th>0</th>\n",
              "      <td>0</td>\n",
              "      <td>the yorker gone wrong. low full toss, and dhoni has been waiting. he sends it sailing over midw...</td>\n",
              "      <td>[yorker, gone, wrong, low, full, toss, dhoni, waiting, sends, sailing, midwicket]</td>\n",
              "    </tr>\n",
              "    <tr>\n",
              "      <th>1</th>\n",
              "      <td>1</td>\n",
              "      <td>short of a length, no room, worked to leg for -999</td>\n",
              "      <td>[short, length, room, worked, leg]</td>\n",
              "    </tr>\n",
              "    <tr>\n",
              "      <th>2</th>\n",
              "      <td>2</td>\n",
              "      <td>good yorker, dhoni is making room, but can't get anything on this</td>\n",
              "      <td>[good, yorker, dhoni, making, room, cant, get, anything]</td>\n",
              "    </tr>\n",
              "    <tr>\n",
              "      <th>3</th>\n",
              "      <td>3</td>\n",
              "      <td>raina is gone. finally to the short ball. but after having scored 74 off 56. this has hurried o...</td>\n",
              "      <td>[raina, gone, finally, short, ball, scored, 74, 56, hurried, onto, taken, top, edge]</td>\n",
              "    </tr>\n",
              "    <tr>\n",
              "      <th>4</th>\n",
              "      <td>4</td>\n",
              "      <td>not called a wide. great call -999 say. he has moved inside the line, and he has been beaten ou...</td>\n",
              "      <td>[called, wide, great, call, say, moved, inside, line, beaten, outside, leg, might, wide, raina, ...</td>\n",
              "    </tr>\n",
              "  </tbody>\n",
              "</table>\n",
              "</div>"
            ],
            "text/plain": [
              "   ID  ...                                                                                            cleanData\n",
              "0   0  ...                    [yorker, gone, wrong, low, full, toss, dhoni, waiting, sends, sailing, midwicket]\n",
              "1   1  ...                                                                   [short, length, room, worked, leg]\n",
              "2   2  ...                                             [good, yorker, dhoni, making, room, cant, get, anything]\n",
              "3   3  ...                 [raina, gone, finally, short, ball, scored, 74, 56, hurried, onto, taken, top, edge]\n",
              "4   4  ...  [called, wide, great, call, say, moved, inside, line, beaten, outside, leg, might, wide, raina, ...\n",
              "\n",
              "[5 rows x 3 columns]"
            ]
          },
          "metadata": {
            "tags": []
          },
          "execution_count": 63
        }
      ]
    },
    {
      "cell_type": "code",
      "metadata": {
        "id": "XLKGrJbDjnjt",
        "colab_type": "code",
        "colab": {
          "base_uri": "https://localhost:8080/",
          "height": 34
        },
        "outputId": "34532480-7540-4ede-8435-c1045afc836b"
      },
      "source": [
        "testVec = vectorization.fit_transform(testing_df['Commentary'])\n",
        "testVec.shape"
      ],
      "execution_count": 64,
      "outputs": [
        {
          "output_type": "execute_result",
          "data": {
            "text/plain": [
              "(26143, 100)"
            ]
          },
          "metadata": {
            "tags": []
          },
          "execution_count": 64
        }
      ]
    },
    {
      "cell_type": "code",
      "metadata": {
        "id": "v_GW0ju6kVWl",
        "colab_type": "code",
        "colab": {
          "base_uri": "https://localhost:8080/",
          "height": 253
        },
        "outputId": "9a481acd-c626-43d0-cdda-d33cc68cc318"
      },
      "source": [
        "res_features = pd.DataFrame(testVec.toarray())\n",
        "res_features.head()"
      ],
      "execution_count": 65,
      "outputs": [
        {
          "output_type": "execute_result",
          "data": {
            "text/html": [
              "<div>\n",
              "<style scoped>\n",
              "    .dataframe tbody tr th:only-of-type {\n",
              "        vertical-align: middle;\n",
              "    }\n",
              "\n",
              "    .dataframe tbody tr th {\n",
              "        vertical-align: top;\n",
              "    }\n",
              "\n",
              "    .dataframe thead th {\n",
              "        text-align: right;\n",
              "    }\n",
              "</style>\n",
              "<table border=\"1\" class=\"dataframe\">\n",
              "  <thead>\n",
              "    <tr style=\"text-align: right;\">\n",
              "      <th></th>\n",
              "      <th>0</th>\n",
              "      <th>1</th>\n",
              "      <th>2</th>\n",
              "      <th>3</th>\n",
              "      <th>4</th>\n",
              "      <th>5</th>\n",
              "      <th>6</th>\n",
              "      <th>7</th>\n",
              "      <th>8</th>\n",
              "      <th>9</th>\n",
              "      <th>10</th>\n",
              "      <th>11</th>\n",
              "      <th>12</th>\n",
              "      <th>13</th>\n",
              "      <th>14</th>\n",
              "      <th>15</th>\n",
              "      <th>16</th>\n",
              "      <th>17</th>\n",
              "      <th>18</th>\n",
              "      <th>19</th>\n",
              "      <th>20</th>\n",
              "      <th>21</th>\n",
              "      <th>22</th>\n",
              "      <th>23</th>\n",
              "      <th>24</th>\n",
              "      <th>25</th>\n",
              "      <th>26</th>\n",
              "      <th>27</th>\n",
              "      <th>28</th>\n",
              "      <th>29</th>\n",
              "      <th>30</th>\n",
              "      <th>31</th>\n",
              "      <th>32</th>\n",
              "      <th>33</th>\n",
              "      <th>34</th>\n",
              "      <th>35</th>\n",
              "      <th>36</th>\n",
              "      <th>37</th>\n",
              "      <th>38</th>\n",
              "      <th>39</th>\n",
              "      <th>...</th>\n",
              "      <th>60</th>\n",
              "      <th>61</th>\n",
              "      <th>62</th>\n",
              "      <th>63</th>\n",
              "      <th>64</th>\n",
              "      <th>65</th>\n",
              "      <th>66</th>\n",
              "      <th>67</th>\n",
              "      <th>68</th>\n",
              "      <th>69</th>\n",
              "      <th>70</th>\n",
              "      <th>71</th>\n",
              "      <th>72</th>\n",
              "      <th>73</th>\n",
              "      <th>74</th>\n",
              "      <th>75</th>\n",
              "      <th>76</th>\n",
              "      <th>77</th>\n",
              "      <th>78</th>\n",
              "      <th>79</th>\n",
              "      <th>80</th>\n",
              "      <th>81</th>\n",
              "      <th>82</th>\n",
              "      <th>83</th>\n",
              "      <th>84</th>\n",
              "      <th>85</th>\n",
              "      <th>86</th>\n",
              "      <th>87</th>\n",
              "      <th>88</th>\n",
              "      <th>89</th>\n",
              "      <th>90</th>\n",
              "      <th>91</th>\n",
              "      <th>92</th>\n",
              "      <th>93</th>\n",
              "      <th>94</th>\n",
              "      <th>95</th>\n",
              "      <th>96</th>\n",
              "      <th>97</th>\n",
              "      <th>98</th>\n",
              "      <th>99</th>\n",
              "    </tr>\n",
              "  </thead>\n",
              "  <tbody>\n",
              "    <tr>\n",
              "      <th>0</th>\n",
              "      <td>0.0</td>\n",
              "      <td>0.0</td>\n",
              "      <td>0.0</td>\n",
              "      <td>0.0</td>\n",
              "      <td>0.0</td>\n",
              "      <td>0.000000</td>\n",
              "      <td>0.0</td>\n",
              "      <td>0.0</td>\n",
              "      <td>0.0</td>\n",
              "      <td>0.0</td>\n",
              "      <td>0.0</td>\n",
              "      <td>0.0</td>\n",
              "      <td>0.0</td>\n",
              "      <td>0.000000</td>\n",
              "      <td>0.0</td>\n",
              "      <td>0.0</td>\n",
              "      <td>0.0</td>\n",
              "      <td>0.0</td>\n",
              "      <td>0.0</td>\n",
              "      <td>0.0</td>\n",
              "      <td>0.0</td>\n",
              "      <td>0.0</td>\n",
              "      <td>0.0</td>\n",
              "      <td>0.0</td>\n",
              "      <td>0.0</td>\n",
              "      <td>0.000000</td>\n",
              "      <td>0.0</td>\n",
              "      <td>0.0</td>\n",
              "      <td>0.0</td>\n",
              "      <td>0.0</td>\n",
              "      <td>0.0</td>\n",
              "      <td>0.0</td>\n",
              "      <td>0.0</td>\n",
              "      <td>0.0</td>\n",
              "      <td>0.325356</td>\n",
              "      <td>0.0</td>\n",
              "      <td>0.000000</td>\n",
              "      <td>0.0</td>\n",
              "      <td>0.000000</td>\n",
              "      <td>0.000000</td>\n",
              "      <td>...</td>\n",
              "      <td>0.0</td>\n",
              "      <td>0.000000</td>\n",
              "      <td>0.0</td>\n",
              "      <td>0.0</td>\n",
              "      <td>0.0</td>\n",
              "      <td>0.0</td>\n",
              "      <td>0.0</td>\n",
              "      <td>0.0</td>\n",
              "      <td>0.0</td>\n",
              "      <td>0.0</td>\n",
              "      <td>0.0</td>\n",
              "      <td>0.0</td>\n",
              "      <td>0.0</td>\n",
              "      <td>0.000000</td>\n",
              "      <td>0.0</td>\n",
              "      <td>0.000000</td>\n",
              "      <td>0.0</td>\n",
              "      <td>0.0</td>\n",
              "      <td>0.0</td>\n",
              "      <td>0.0</td>\n",
              "      <td>0.0</td>\n",
              "      <td>0.0</td>\n",
              "      <td>0.0</td>\n",
              "      <td>0.0</td>\n",
              "      <td>0.0</td>\n",
              "      <td>0.0</td>\n",
              "      <td>0.0</td>\n",
              "      <td>0.0</td>\n",
              "      <td>0.490024</td>\n",
              "      <td>0.0</td>\n",
              "      <td>0.0</td>\n",
              "      <td>0.0</td>\n",
              "      <td>0.0</td>\n",
              "      <td>0.0</td>\n",
              "      <td>0.0</td>\n",
              "      <td>0.0</td>\n",
              "      <td>0.000000</td>\n",
              "      <td>0.0</td>\n",
              "      <td>0.000000</td>\n",
              "      <td>0.513448</td>\n",
              "    </tr>\n",
              "    <tr>\n",
              "      <th>1</th>\n",
              "      <td>0.0</td>\n",
              "      <td>0.0</td>\n",
              "      <td>0.0</td>\n",
              "      <td>0.0</td>\n",
              "      <td>0.0</td>\n",
              "      <td>0.000000</td>\n",
              "      <td>0.0</td>\n",
              "      <td>0.0</td>\n",
              "      <td>0.0</td>\n",
              "      <td>0.0</td>\n",
              "      <td>0.0</td>\n",
              "      <td>0.0</td>\n",
              "      <td>0.0</td>\n",
              "      <td>0.000000</td>\n",
              "      <td>0.0</td>\n",
              "      <td>0.0</td>\n",
              "      <td>0.0</td>\n",
              "      <td>0.0</td>\n",
              "      <td>0.0</td>\n",
              "      <td>0.0</td>\n",
              "      <td>0.0</td>\n",
              "      <td>0.0</td>\n",
              "      <td>0.0</td>\n",
              "      <td>0.0</td>\n",
              "      <td>0.0</td>\n",
              "      <td>0.000000</td>\n",
              "      <td>0.0</td>\n",
              "      <td>0.0</td>\n",
              "      <td>0.0</td>\n",
              "      <td>0.0</td>\n",
              "      <td>0.0</td>\n",
              "      <td>0.0</td>\n",
              "      <td>0.0</td>\n",
              "      <td>0.0</td>\n",
              "      <td>0.000000</td>\n",
              "      <td>0.0</td>\n",
              "      <td>0.000000</td>\n",
              "      <td>0.0</td>\n",
              "      <td>0.000000</td>\n",
              "      <td>0.000000</td>\n",
              "      <td>...</td>\n",
              "      <td>0.0</td>\n",
              "      <td>0.000000</td>\n",
              "      <td>0.0</td>\n",
              "      <td>0.0</td>\n",
              "      <td>0.0</td>\n",
              "      <td>0.0</td>\n",
              "      <td>0.0</td>\n",
              "      <td>0.0</td>\n",
              "      <td>0.0</td>\n",
              "      <td>0.0</td>\n",
              "      <td>0.0</td>\n",
              "      <td>0.0</td>\n",
              "      <td>0.0</td>\n",
              "      <td>0.574978</td>\n",
              "      <td>0.0</td>\n",
              "      <td>0.348548</td>\n",
              "      <td>0.0</td>\n",
              "      <td>0.0</td>\n",
              "      <td>0.0</td>\n",
              "      <td>0.0</td>\n",
              "      <td>0.0</td>\n",
              "      <td>0.0</td>\n",
              "      <td>0.0</td>\n",
              "      <td>0.0</td>\n",
              "      <td>0.0</td>\n",
              "      <td>0.0</td>\n",
              "      <td>0.0</td>\n",
              "      <td>0.0</td>\n",
              "      <td>0.000000</td>\n",
              "      <td>0.0</td>\n",
              "      <td>0.0</td>\n",
              "      <td>0.0</td>\n",
              "      <td>0.0</td>\n",
              "      <td>0.0</td>\n",
              "      <td>0.0</td>\n",
              "      <td>0.0</td>\n",
              "      <td>0.000000</td>\n",
              "      <td>0.0</td>\n",
              "      <td>0.586861</td>\n",
              "      <td>0.000000</td>\n",
              "    </tr>\n",
              "    <tr>\n",
              "      <th>2</th>\n",
              "      <td>0.0</td>\n",
              "      <td>0.0</td>\n",
              "      <td>0.0</td>\n",
              "      <td>0.0</td>\n",
              "      <td>0.0</td>\n",
              "      <td>0.000000</td>\n",
              "      <td>0.0</td>\n",
              "      <td>0.0</td>\n",
              "      <td>0.0</td>\n",
              "      <td>0.0</td>\n",
              "      <td>0.0</td>\n",
              "      <td>0.0</td>\n",
              "      <td>0.0</td>\n",
              "      <td>0.492977</td>\n",
              "      <td>0.0</td>\n",
              "      <td>0.0</td>\n",
              "      <td>0.0</td>\n",
              "      <td>0.0</td>\n",
              "      <td>0.0</td>\n",
              "      <td>0.0</td>\n",
              "      <td>0.0</td>\n",
              "      <td>0.0</td>\n",
              "      <td>0.0</td>\n",
              "      <td>0.0</td>\n",
              "      <td>0.0</td>\n",
              "      <td>0.000000</td>\n",
              "      <td>0.0</td>\n",
              "      <td>0.0</td>\n",
              "      <td>0.0</td>\n",
              "      <td>0.0</td>\n",
              "      <td>0.0</td>\n",
              "      <td>0.0</td>\n",
              "      <td>0.0</td>\n",
              "      <td>0.0</td>\n",
              "      <td>0.000000</td>\n",
              "      <td>0.0</td>\n",
              "      <td>0.322642</td>\n",
              "      <td>0.0</td>\n",
              "      <td>0.386874</td>\n",
              "      <td>0.000000</td>\n",
              "      <td>...</td>\n",
              "      <td>0.0</td>\n",
              "      <td>0.000000</td>\n",
              "      <td>0.0</td>\n",
              "      <td>0.0</td>\n",
              "      <td>0.0</td>\n",
              "      <td>0.0</td>\n",
              "      <td>0.0</td>\n",
              "      <td>0.0</td>\n",
              "      <td>0.0</td>\n",
              "      <td>0.0</td>\n",
              "      <td>0.0</td>\n",
              "      <td>0.0</td>\n",
              "      <td>0.0</td>\n",
              "      <td>0.494186</td>\n",
              "      <td>0.0</td>\n",
              "      <td>0.000000</td>\n",
              "      <td>0.0</td>\n",
              "      <td>0.0</td>\n",
              "      <td>0.0</td>\n",
              "      <td>0.0</td>\n",
              "      <td>0.0</td>\n",
              "      <td>0.0</td>\n",
              "      <td>0.0</td>\n",
              "      <td>0.0</td>\n",
              "      <td>0.0</td>\n",
              "      <td>0.0</td>\n",
              "      <td>0.0</td>\n",
              "      <td>0.0</td>\n",
              "      <td>0.000000</td>\n",
              "      <td>0.0</td>\n",
              "      <td>0.0</td>\n",
              "      <td>0.0</td>\n",
              "      <td>0.0</td>\n",
              "      <td>0.0</td>\n",
              "      <td>0.0</td>\n",
              "      <td>0.0</td>\n",
              "      <td>0.000000</td>\n",
              "      <td>0.0</td>\n",
              "      <td>0.000000</td>\n",
              "      <td>0.508905</td>\n",
              "    </tr>\n",
              "    <tr>\n",
              "      <th>3</th>\n",
              "      <td>0.0</td>\n",
              "      <td>0.0</td>\n",
              "      <td>0.0</td>\n",
              "      <td>0.0</td>\n",
              "      <td>0.0</td>\n",
              "      <td>0.479514</td>\n",
              "      <td>0.0</td>\n",
              "      <td>0.0</td>\n",
              "      <td>0.0</td>\n",
              "      <td>0.0</td>\n",
              "      <td>0.0</td>\n",
              "      <td>0.0</td>\n",
              "      <td>0.0</td>\n",
              "      <td>0.000000</td>\n",
              "      <td>0.0</td>\n",
              "      <td>0.0</td>\n",
              "      <td>0.0</td>\n",
              "      <td>0.0</td>\n",
              "      <td>0.0</td>\n",
              "      <td>0.0</td>\n",
              "      <td>0.0</td>\n",
              "      <td>0.0</td>\n",
              "      <td>0.0</td>\n",
              "      <td>0.0</td>\n",
              "      <td>0.0</td>\n",
              "      <td>0.704764</td>\n",
              "      <td>0.0</td>\n",
              "      <td>0.0</td>\n",
              "      <td>0.0</td>\n",
              "      <td>0.0</td>\n",
              "      <td>0.0</td>\n",
              "      <td>0.0</td>\n",
              "      <td>0.0</td>\n",
              "      <td>0.0</td>\n",
              "      <td>0.000000</td>\n",
              "      <td>0.0</td>\n",
              "      <td>0.000000</td>\n",
              "      <td>0.0</td>\n",
              "      <td>0.000000</td>\n",
              "      <td>0.000000</td>\n",
              "      <td>...</td>\n",
              "      <td>0.0</td>\n",
              "      <td>0.000000</td>\n",
              "      <td>0.0</td>\n",
              "      <td>0.0</td>\n",
              "      <td>0.0</td>\n",
              "      <td>0.0</td>\n",
              "      <td>0.0</td>\n",
              "      <td>0.0</td>\n",
              "      <td>0.0</td>\n",
              "      <td>0.0</td>\n",
              "      <td>0.0</td>\n",
              "      <td>0.0</td>\n",
              "      <td>0.0</td>\n",
              "      <td>0.000000</td>\n",
              "      <td>0.0</td>\n",
              "      <td>0.522853</td>\n",
              "      <td>0.0</td>\n",
              "      <td>0.0</td>\n",
              "      <td>0.0</td>\n",
              "      <td>0.0</td>\n",
              "      <td>0.0</td>\n",
              "      <td>0.0</td>\n",
              "      <td>0.0</td>\n",
              "      <td>0.0</td>\n",
              "      <td>0.0</td>\n",
              "      <td>0.0</td>\n",
              "      <td>0.0</td>\n",
              "      <td>0.0</td>\n",
              "      <td>0.000000</td>\n",
              "      <td>0.0</td>\n",
              "      <td>0.0</td>\n",
              "      <td>0.0</td>\n",
              "      <td>0.0</td>\n",
              "      <td>0.0</td>\n",
              "      <td>0.0</td>\n",
              "      <td>0.0</td>\n",
              "      <td>0.000000</td>\n",
              "      <td>0.0</td>\n",
              "      <td>0.000000</td>\n",
              "      <td>0.000000</td>\n",
              "    </tr>\n",
              "    <tr>\n",
              "      <th>4</th>\n",
              "      <td>0.0</td>\n",
              "      <td>0.0</td>\n",
              "      <td>0.0</td>\n",
              "      <td>0.0</td>\n",
              "      <td>0.0</td>\n",
              "      <td>0.000000</td>\n",
              "      <td>0.0</td>\n",
              "      <td>0.0</td>\n",
              "      <td>0.0</td>\n",
              "      <td>0.0</td>\n",
              "      <td>0.0</td>\n",
              "      <td>0.0</td>\n",
              "      <td>0.0</td>\n",
              "      <td>0.000000</td>\n",
              "      <td>0.0</td>\n",
              "      <td>0.0</td>\n",
              "      <td>0.0</td>\n",
              "      <td>0.0</td>\n",
              "      <td>0.0</td>\n",
              "      <td>0.0</td>\n",
              "      <td>0.0</td>\n",
              "      <td>0.0</td>\n",
              "      <td>0.0</td>\n",
              "      <td>0.0</td>\n",
              "      <td>0.0</td>\n",
              "      <td>0.000000</td>\n",
              "      <td>0.0</td>\n",
              "      <td>0.0</td>\n",
              "      <td>0.0</td>\n",
              "      <td>0.0</td>\n",
              "      <td>0.0</td>\n",
              "      <td>0.0</td>\n",
              "      <td>0.0</td>\n",
              "      <td>0.0</td>\n",
              "      <td>0.000000</td>\n",
              "      <td>0.0</td>\n",
              "      <td>0.000000</td>\n",
              "      <td>0.0</td>\n",
              "      <td>0.000000</td>\n",
              "      <td>0.418566</td>\n",
              "      <td>...</td>\n",
              "      <td>0.0</td>\n",
              "      <td>0.230373</td>\n",
              "      <td>0.0</td>\n",
              "      <td>0.0</td>\n",
              "      <td>0.0</td>\n",
              "      <td>0.0</td>\n",
              "      <td>0.0</td>\n",
              "      <td>0.0</td>\n",
              "      <td>0.0</td>\n",
              "      <td>0.0</td>\n",
              "      <td>0.0</td>\n",
              "      <td>0.0</td>\n",
              "      <td>0.0</td>\n",
              "      <td>0.000000</td>\n",
              "      <td>0.0</td>\n",
              "      <td>0.000000</td>\n",
              "      <td>0.0</td>\n",
              "      <td>0.0</td>\n",
              "      <td>0.0</td>\n",
              "      <td>0.0</td>\n",
              "      <td>0.0</td>\n",
              "      <td>0.0</td>\n",
              "      <td>0.0</td>\n",
              "      <td>0.0</td>\n",
              "      <td>0.0</td>\n",
              "      <td>0.0</td>\n",
              "      <td>0.0</td>\n",
              "      <td>0.0</td>\n",
              "      <td>0.000000</td>\n",
              "      <td>0.0</td>\n",
              "      <td>0.0</td>\n",
              "      <td>0.0</td>\n",
              "      <td>0.0</td>\n",
              "      <td>0.0</td>\n",
              "      <td>0.0</td>\n",
              "      <td>0.0</td>\n",
              "      <td>0.647549</td>\n",
              "      <td>0.0</td>\n",
              "      <td>0.000000</td>\n",
              "      <td>0.000000</td>\n",
              "    </tr>\n",
              "  </tbody>\n",
              "</table>\n",
              "<p>5 rows × 100 columns</p>\n",
              "</div>"
            ],
            "text/plain": [
              "    0    1    2    3    4   ...   95        96   97        98        99\n",
              "0  0.0  0.0  0.0  0.0  0.0  ...  0.0  0.000000  0.0  0.000000  0.513448\n",
              "1  0.0  0.0  0.0  0.0  0.0  ...  0.0  0.000000  0.0  0.586861  0.000000\n",
              "2  0.0  0.0  0.0  0.0  0.0  ...  0.0  0.000000  0.0  0.000000  0.508905\n",
              "3  0.0  0.0  0.0  0.0  0.0  ...  0.0  0.000000  0.0  0.000000  0.000000\n",
              "4  0.0  0.0  0.0  0.0  0.0  ...  0.0  0.647549  0.0  0.000000  0.000000\n",
              "\n",
              "[5 rows x 100 columns]"
            ]
          },
          "metadata": {
            "tags": []
          },
          "execution_count": 65
        }
      ]
    },
    {
      "cell_type": "code",
      "metadata": {
        "id": "D_C7GCz8uBmC",
        "colab_type": "code",
        "colab": {}
      },
      "source": [
        "result = rf_model.predict(res_features)"
      ],
      "execution_count": 66,
      "outputs": []
    },
    {
      "cell_type": "code",
      "metadata": {
        "id": "rZbN-GzWzTwl",
        "colab_type": "code",
        "colab": {}
      },
      "source": [
        "testing_df['result'] = result"
      ],
      "execution_count": 67,
      "outputs": []
    },
    {
      "cell_type": "code",
      "metadata": {
        "id": "Svb9DYCpzhbX",
        "colab_type": "code",
        "colab": {}
      },
      "source": [
        "saveData = testing_df[['ID','result']]"
      ],
      "execution_count": 68,
      "outputs": []
    },
    {
      "cell_type": "code",
      "metadata": {
        "id": "Pfi4Wa0Jzovn",
        "colab_type": "code",
        "colab": {
          "base_uri": "https://localhost:8080/",
          "height": 204
        },
        "outputId": "a16aee9d-4dee-40d2-add9-d3b0618cb1d7"
      },
      "source": [
        "saveData.head()                 #Shows the first 5 entries of the data frame"
      ],
      "execution_count": 69,
      "outputs": [
        {
          "output_type": "execute_result",
          "data": {
            "text/html": [
              "<div>\n",
              "<style scoped>\n",
              "    .dataframe tbody tr th:only-of-type {\n",
              "        vertical-align: middle;\n",
              "    }\n",
              "\n",
              "    .dataframe tbody tr th {\n",
              "        vertical-align: top;\n",
              "    }\n",
              "\n",
              "    .dataframe thead th {\n",
              "        text-align: right;\n",
              "    }\n",
              "</style>\n",
              "<table border=\"1\" class=\"dataframe\">\n",
              "  <thead>\n",
              "    <tr style=\"text-align: right;\">\n",
              "      <th></th>\n",
              "      <th>ID</th>\n",
              "      <th>result</th>\n",
              "    </tr>\n",
              "  </thead>\n",
              "  <tbody>\n",
              "    <tr>\n",
              "      <th>0</th>\n",
              "      <td>0</td>\n",
              "      <td>Boundary</td>\n",
              "    </tr>\n",
              "    <tr>\n",
              "      <th>1</th>\n",
              "      <td>1</td>\n",
              "      <td>Run_Bw_Wickets</td>\n",
              "    </tr>\n",
              "    <tr>\n",
              "      <th>2</th>\n",
              "      <td>2</td>\n",
              "      <td>Dot</td>\n",
              "    </tr>\n",
              "    <tr>\n",
              "      <th>3</th>\n",
              "      <td>3</td>\n",
              "      <td>Dot</td>\n",
              "    </tr>\n",
              "    <tr>\n",
              "      <th>4</th>\n",
              "      <td>4</td>\n",
              "      <td>Run_Bw_Wickets</td>\n",
              "    </tr>\n",
              "  </tbody>\n",
              "</table>\n",
              "</div>"
            ],
            "text/plain": [
              "   ID          result\n",
              "0   0        Boundary\n",
              "1   1  Run_Bw_Wickets\n",
              "2   2             Dot\n",
              "3   3             Dot\n",
              "4   4  Run_Bw_Wickets"
            ]
          },
          "metadata": {
            "tags": []
          },
          "execution_count": 69
        }
      ]
    },
    {
      "cell_type": "code",
      "metadata": {
        "id": "kcN975ia0Az2",
        "colab_type": "code",
        "colab": {
          "base_uri": "https://localhost:8080/",
          "height": 34
        },
        "outputId": "07bf00fe-0885-4b2e-e45c-2877df20fd4f"
      },
      "source": [
        "print(\"Output has {} fields, {} are RBW, {} are dot, {} are wickets, {} are boundary\".format(len(saveData),\n",
        "                                                                                            len(saveData[saveData['result'] == 'Run_Bw_Wickets']),\n",
        "                                                                                           len(saveData[saveData['result'] == 'Dot']),\n",
        "                                                                                           len(saveData[saveData['result'] == 'Wicket']),\n",
        "                                                                                           len(saveData[saveData['result'] == 'Boundary'])))"
      ],
      "execution_count": 70,
      "outputs": [
        {
          "output_type": "stream",
          "text": [
            "Output has 26143 fields, 9805 are RBW, 12403 are dot, 991 are wickets, 2944 are boundary\n"
          ],
          "name": "stdout"
        }
      ]
    },
    {
      "cell_type": "code",
      "metadata": {
        "id": "qytiBhj-0hJ_",
        "colab_type": "code",
        "colab": {
          "base_uri": "https://localhost:8080/",
          "height": 297
        },
        "outputId": "823fba78-512e-44d7-907c-8251fcead47e"
      },
      "source": [
        "sns.countplot(saveData.result)\n",
        "plt.xlabel('result')"
      ],
      "execution_count": 71,
      "outputs": [
        {
          "output_type": "execute_result",
          "data": {
            "text/plain": [
              "Text(0.5, 0, 'result')"
            ]
          },
          "metadata": {
            "tags": []
          },
          "execution_count": 71
        },
        {
          "output_type": "display_data",
          "data": {
            "image/png": "[encoded data removed]",
            "text/plain": [
              "<Figure size 432x288 with 1 Axes>"
            ]
          },
          "metadata": {
            "tags": [],
            "needs_background": "light"
          }
        }
      ]
    },
    {
      "cell_type": "code",
      "metadata": {
        "id": "FJtXZmF4z5Ql",
        "colab_type": "code",
        "colab": {}
      },
      "source": [
        "saveData.to_excel('ResultFile_Prediction_.xlsx', index = False)"
      ],
      "execution_count": 36,
      "outputs": []
    },
    {
      "cell_type": "markdown",
      "metadata": {
        "id": "7_whzqCTY5bP",
        "colab_type": "text"
      },
      "source": [
        "\n",
        "\n",
        "---\n",
        "\n",
        "Thank You !!\n",
        "\n",
        "---\n",
        "\n"
      ]
    }
  ]
}